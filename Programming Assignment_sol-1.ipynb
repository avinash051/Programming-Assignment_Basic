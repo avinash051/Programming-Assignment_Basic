{
 "cells": [
  {
   "cell_type": "markdown",
   "id": "662145d1",
   "metadata": {},
   "source": [
    "1. Write a Python program to print &quot;Hello Python&quot;?"
   ]
  },
  {
   "cell_type": "code",
   "execution_count": 2,
   "id": "1ff1819b",
   "metadata": {},
   "outputs": [
    {
     "name": "stdout",
     "output_type": "stream",
     "text": [
      "hello Python\n"
     ]
    }
   ],
   "source": [
    "print(\"hello Python\")"
   ]
  },
  {
   "cell_type": "markdown",
   "id": "9927228f",
   "metadata": {},
   "source": [
    "2. Write a Python program to do arithmetical operations addition and division.?"
   ]
  },
  {
   "cell_type": "code",
   "execution_count": 8,
   "id": "12e31357",
   "metadata": {},
   "outputs": [
    {
     "name": "stdout",
     "output_type": "stream",
     "text": [
      "7\n",
      "2.0\n"
     ]
    }
   ],
   "source": [
    "def addition(a,b):\n",
    "    return(a+b)\n",
    "def division(c,d):\n",
    "    return(c/d)\n",
    "\n",
    "sum = addition(3,4)\n",
    "print(sum)\n",
    "\n",
    "div = division(8,4)\n",
    "print(div)\n",
    "\n"
   ]
  },
  {
   "cell_type": "markdown",
   "id": "9eb476f4",
   "metadata": {},
   "source": [
    "3. Write a Python program to find the area of a triangle?"
   ]
  },
  {
   "cell_type": "code",
   "execution_count": 12,
   "id": "7fe86412",
   "metadata": {},
   "outputs": [
    {
     "name": "stdout",
     "output_type": "stream",
     "text": [
      "Enter side A :5\n",
      "Enter side b :6\n",
      "Enter side c :7\n",
      "The area of the triangle is 14.70\n"
     ]
    }
   ],
   "source": [
    "a = int(input(\"Enter side A :\"))\n",
    "b = int(input(\"Enter side b :\"))\n",
    "c = int(input(\"Enter side c :\"))\n",
    "\n",
    "# Uncomment below to take inputs from the user\n",
    "# a = float(input('Enter first side: '))\n",
    "# b = float(input('Enter second side: '))\n",
    "# c = float(input('Enter third side: '))\n",
    "\n",
    "# calculate the semi-perimeter\n",
    "s = (a + b + c) / 2\n",
    "\n",
    "# calculate the area\n",
    "area = (s*(s-a)*(s-b)*(s-c)) ** 0.5\n",
    "print('The area of the triangle is %0.2f' %area)"
   ]
  },
  {
   "cell_type": "markdown",
   "id": "98089de3",
   "metadata": {},
   "source": [
    "4. Write a Python program to swap two variables?"
   ]
  },
  {
   "cell_type": "code",
   "execution_count": 15,
   "id": "236d2c9a",
   "metadata": {},
   "outputs": [
    {
     "name": "stdout",
     "output_type": "stream",
     "text": [
      "Enter 1st No :4\n",
      "Enter 2nd No :5\n"
     ]
    },
    {
     "data": {
      "text/plain": [
       "(5, 4)"
      ]
     },
     "execution_count": 15,
     "metadata": {},
     "output_type": "execute_result"
    }
   ],
   "source": [
    "a = int(input(\"Enter 1st No :\"))\n",
    "b = int(input(\"Enter 2nd No :\"))\n",
    "def swap(a,b):\n",
    "    a,b = b,a\n",
    "    return (a,b)\n",
    "\n",
    "swap(a,b)\n",
    "\n",
    "\n"
   ]
  },
  {
   "cell_type": "markdown",
   "id": "9c1310d9",
   "metadata": {},
   "source": [
    "5. Write a Python program to generate a random number?"
   ]
  },
  {
   "cell_type": "code",
   "execution_count": 18,
   "id": "377321db",
   "metadata": {},
   "outputs": [
    {
     "name": "stdout",
     "output_type": "stream",
     "text": [
      "1\n"
     ]
    }
   ],
   "source": [
    "# importing the random module\n",
    "import random\n",
    "\n",
    "print(random.randint(0,9))"
   ]
  }
 ],
 "metadata": {
  "kernelspec": {
   "display_name": "Python 3 (ipykernel)",
   "language": "python",
   "name": "python3"
  },
  "language_info": {
   "codemirror_mode": {
    "name": "ipython",
    "version": 3
   },
   "file_extension": ".py",
   "mimetype": "text/x-python",
   "name": "python",
   "nbconvert_exporter": "python",
   "pygments_lexer": "ipython3",
   "version": "3.9.12"
  }
 },
 "nbformat": 4,
 "nbformat_minor": 5
}
