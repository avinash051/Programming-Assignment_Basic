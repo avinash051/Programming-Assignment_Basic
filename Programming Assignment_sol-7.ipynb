{
 "cells": [
  {
   "cell_type": "markdown",
   "id": "ff64c301",
   "metadata": {},
   "source": [
    "1. Write a Python Program to find sum of array?"
   ]
  },
  {
   "cell_type": "code",
   "execution_count": 1,
   "id": "5d1c7d16",
   "metadata": {},
   "outputs": [
    {
     "data": {
      "text/plain": [
       "19"
      ]
     },
     "execution_count": 1,
     "metadata": {},
     "output_type": "execute_result"
    }
   ],
   "source": [
    "arr = [10,4,5]\n",
    "sum(arr)"
   ]
  },
  {
   "cell_type": "markdown",
   "id": "aa371dd7",
   "metadata": {},
   "source": [
    "2. Write a Python Program to find largest element in an array?"
   ]
  },
  {
   "cell_type": "code",
   "execution_count": 3,
   "id": "44c134b6",
   "metadata": {},
   "outputs": [
    {
     "data": {
      "text/plain": [
       "234"
      ]
     },
     "execution_count": 3,
     "metadata": {},
     "output_type": "execute_result"
    }
   ],
   "source": [
    "arr2 = [34,23,13,234,45,35]\n",
    "max(arr2)\n",
    "    "
   ]
  },
  {
   "cell_type": "markdown",
   "id": "20d3e9aa",
   "metadata": {},
   "source": [
    "3. Write a Python Program for array rotation?"
   ]
  },
  {
   "cell_type": "code",
   "execution_count": 4,
   "id": "fb01ea35",
   "metadata": {},
   "outputs": [
    {
     "name": "stdout",
     "output_type": "stream",
     "text": [
      "7\n",
      "6\n",
      "5\n",
      "4\n",
      "3\n"
     ]
    }
   ],
   "source": [
    "arr = [2,3,4,5,6,7]\n",
    "rot = []\n",
    "l = len(arr) -1\n",
    "for i in range(l , 0, -1):\n",
    "  print(arr[i])"
   ]
  },
  {
   "cell_type": "markdown",
   "id": "4e4073da",
   "metadata": {},
   "source": [
    "4. Write a Python Program to Split the array and add the first part to the end?"
   ]
  },
  {
   "cell_type": "code",
   "execution_count": 12,
   "id": "03193a14",
   "metadata": {},
   "outputs": [
    {
     "name": "stdout",
     "output_type": "stream",
     "text": [
      "Enter the Array elements seperated by comma : 34,4,32,1\n",
      "The Sum of First and Last Elements of Array (34, 4, 32, 1) is 35\n"
     ]
    }
   ],
   "source": [
    "def splitAndFirstEndElSum():\n",
    "    in_arr = eval(input(\"Enter the Array elements seperated by comma : \"))\n",
    "    print(f\"The Sum of First and Last Elements of Array {in_arr} is {in_arr[0]+in_arr[-1]}\")\n",
    "    \n",
    "splitAndFirstEndElSum()"
   ]
  },
  {
   "cell_type": "markdown",
   "id": "f0079b59",
   "metadata": {},
   "source": [
    "5. Write a Python Program to check if given array is Monotonic?"
   ]
  },
  {
   "cell_type": "code",
   "execution_count": 15,
   "id": "0e074c86",
   "metadata": {},
   "outputs": [
    {
     "name": "stdout",
     "output_type": "stream",
     "text": [
      "Enter array element seperated by comma1,2,3,4\n",
      "True\n"
     ]
    }
   ],
   "source": [
    "def isMonotonic(a):\n",
    " \n",
    "    return (all(a[i] <= a[i + 1] for i in range(len(a) - 1)) or\n",
    "            all(a[i] >= a[i + 1] for i in range(len(a) - 1)))\n",
    " \n",
    "\n",
    "a = eval(input(\"Enter array element seperated by comma\"))\n",
    " \n",
    "# Print required result\n",
    "print(isMonotonic(a))"
   ]
  },
  {
   "cell_type": "code",
   "execution_count": null,
   "id": "84a8b893",
   "metadata": {},
   "outputs": [],
   "source": []
  }
 ],
 "metadata": {
  "kernelspec": {
   "display_name": "Python 3 (ipykernel)",
   "language": "python",
   "name": "python3"
  },
  "language_info": {
   "codemirror_mode": {
    "name": "ipython",
    "version": 3
   },
   "file_extension": ".py",
   "mimetype": "text/x-python",
   "name": "python",
   "nbconvert_exporter": "python",
   "pygments_lexer": "ipython3",
   "version": "3.9.12"
  }
 },
 "nbformat": 4,
 "nbformat_minor": 5
}
